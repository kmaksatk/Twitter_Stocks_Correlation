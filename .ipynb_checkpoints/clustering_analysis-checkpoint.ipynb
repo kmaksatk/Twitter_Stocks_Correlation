{
 "cells": [
  {
   "cell_type": "code",
   "execution_count": 1,
   "metadata": {
    "executionInfo": {
     "elapsed": 297,
     "status": "ok",
     "timestamp": 1637524350346,
     "user": {
      "displayName": "Adilbek Karmanov",
      "photoUrl": "https://lh3.googleusercontent.com/a/default-user=s64",
      "userId": "11887494137283416128"
     },
     "user_tz": -240
    },
    "id": "fAhqjXE4Ja6D"
   },
   "outputs": [],
   "source": [
    "%load_ext autoreload\n",
    "%autoreload 2"
   ]
  },
  {
   "cell_type": "code",
   "execution_count": 2,
   "metadata": {},
   "outputs": [],
   "source": [
    "import numpy as np\n",
    "import pandas as pd\n",
    "import tensorflow_text\n",
    "import tensorflow_hub as hub\n",
    "from sklearn.feature_extraction.text import TfidfVectorizer, CountVectorizer \n",
    "import gensim\n",
    "import clustering\n",
    "from sentence_transformers import SentenceTransformer\n",
    "import cupy as cp"
   ]
  },
  {
   "cell_type": "markdown",
   "metadata": {},
   "source": [
    "### Reading tweet files"
   ]
  },
  {
   "cell_type": "code",
   "execution_count": 3,
   "metadata": {
    "executionInfo": {
     "elapsed": 741,
     "status": "ok",
     "timestamp": 1637524353665,
     "user": {
      "displayName": "Adilbek Karmanov",
      "photoUrl": "https://lh3.googleusercontent.com/a/default-user=s64",
      "userId": "11887494137283416128"
     },
     "user_tz": -240
    },
    "id": "wqazMs-cJPow"
   },
   "outputs": [],
   "source": [
    "folder = 'files/'\n",
    "df_with_sw = pd.read_csv(folder + 'clean_tweets_with_stopwords.csv')\n",
    "df_without_sw = pd.read_csv(folder + 'clean_tweets_without_stopwords.csv')"
   ]
  },
  {
   "cell_type": "code",
   "execution_count": 4,
   "metadata": {
    "colab": {
     "base_uri": "https://localhost:8080/",
     "height": 204
    },
    "executionInfo": {
     "elapsed": 306,
     "status": "ok",
     "timestamp": 1637524358193,
     "user": {
      "displayName": "Adilbek Karmanov",
      "photoUrl": "https://lh3.googleusercontent.com/a/default-user=s64",
      "userId": "11887494137283416128"
     },
     "user_tz": -240
    },
    "id": "RMPh-lanDrSD",
    "outputId": "00a3875d-2ece-42f9-eeb5-e4451b9075fc"
   },
   "outputs": [],
   "source": [
    "#Extract tweet data\n",
    "tweets_with_sw = df_with_sw['tweet']\n",
    "tweets_without_sw = df_without_sw['tweet']"
   ]
  },
  {
   "cell_type": "markdown",
   "metadata": {
    "id": "F_nI9YJFOEnO"
   },
   "source": [
    "### Getting encodings using Bag of Words"
   ]
  },
  {
   "cell_type": "code",
   "execution_count": 5,
   "metadata": {
    "colab": {
     "base_uri": "https://localhost:8080/"
    },
    "executionInfo": {
     "elapsed": 482,
     "status": "ok",
     "timestamp": 1635855607337,
     "user": {
      "displayName": "Adilbek Karmanov",
      "photoUrl": "https://lh3.googleusercontent.com/a/default-user=s64",
      "userId": "11887494137283416128"
     },
     "user_tz": -240
    },
    "id": "_ysWBIP0OfpS",
    "outputId": "8bcf8e8c-c69d-465b-d415-5a226c19959a"
   },
   "outputs": [],
   "source": [
    "bow_vectorizer = CountVectorizer(max_df=0.90, min_df=2, max_features=1000, stop_words='english')\n",
    "embeddings_bow = cp.asarray(bow_vectorizer.fit_transform(tweets_without_sw).toarray())"
   ]
  },
  {
   "cell_type": "markdown",
   "metadata": {
    "id": "GebbOGcTRjIo"
   },
   "source": [
    "### Getting encodings using TF-IDF"
   ]
  },
  {
   "cell_type": "code",
   "execution_count": 6,
   "metadata": {
    "colab": {
     "base_uri": "https://localhost:8080/"
    },
    "executionInfo": {
     "elapsed": 363,
     "status": "ok",
     "timestamp": 1635855608781,
     "user": {
      "displayName": "Adilbek Karmanov",
      "photoUrl": "https://lh3.googleusercontent.com/a/default-user=s64",
      "userId": "11887494137283416128"
     },
     "user_tz": -240
    },
    "id": "5or06v16Oflu",
    "outputId": "2b939abc-df66-43ee-d735-d4071172303e"
   },
   "outputs": [],
   "source": [
    "tfidf_vectorizer = TfidfVectorizer(max_df=0.90, min_df=2, max_features=1000, stop_words='english')\n",
    "embeddings_tfidf = cp.asarray(tfidf_vectorizer.fit_transform(tweets_without_sw).toarray())"
   ]
  },
  {
   "cell_type": "markdown",
   "metadata": {
    "id": "ZpML_lUKWC04"
   },
   "source": [
    "### Getting encodings using Word2Vec"
   ]
  },
  {
   "cell_type": "code",
   "execution_count": 7,
   "metadata": {
    "id": "CetauqkxW2MH"
   },
   "outputs": [],
   "source": [
    "embeddings_wordvec = cp.asarray(clustering.word2vec(tweets_without_sw))"
   ]
  },
  {
   "cell_type": "markdown",
   "metadata": {},
   "source": [
    "### Getting encodings using Universal Sentence Encoder model"
   ]
  },
  {
   "cell_type": "code",
   "execution_count": null,
   "metadata": {},
   "outputs": [
    {
     "name": "stderr",
     "output_type": "stream",
     "text": [
      "INFO:absl:Using /tmp/tfhub_modules to cache modules.\n"
     ]
    }
   ],
   "source": [
    "model_use = hub.load(\"https://tfhub.dev/google/universal-sentence-encoder/4\")\n",
    "embeddings_use = cp.asarray(model_use(tweets_with_sw))"
   ]
  },
  {
   "cell_type": "markdown",
   "metadata": {},
   "source": [
    "### Getting encodings using different Transformer Encoder models"
   ]
  },
  {
   "cell_type": "code",
   "execution_count": 8,
   "metadata": {},
   "outputs": [],
   "source": [
    "model_mpnet = SentenceTransformer('all-mpnet-base-v2')\n",
    "model_minilm = SentenceTransformer('all-MiniLM-L6-v2')\n",
    "model_distil = SentenceTransformer('all-distilroberta-v1')"
   ]
  },
  {
   "cell_type": "code",
   "execution_count": 9,
   "metadata": {},
   "outputs": [
    {
     "data": {
      "application/vnd.jupyter.widget-view+json": {
       "model_id": "bb00b5178f174ba8a1127e924aacd667",
       "version_major": 2,
       "version_minor": 0
      },
      "text/plain": [
       "Batches:   0%|          | 0/382 [00:00<?, ?it/s]"
      ]
     },
     "metadata": {},
     "output_type": "display_data"
    },
    {
     "data": {
      "application/vnd.jupyter.widget-view+json": {
       "model_id": "669a212a9a9f45059af1887782044acf",
       "version_major": 2,
       "version_minor": 0
      },
      "text/plain": [
       "Batches:   0%|          | 0/382 [00:00<?, ?it/s]"
      ]
     },
     "metadata": {},
     "output_type": "display_data"
    },
    {
     "data": {
      "application/vnd.jupyter.widget-view+json": {
       "model_id": "7ee993b351d4474eb695d6d0c29d17ab",
       "version_major": 2,
       "version_minor": 0
      },
      "text/plain": [
       "Batches:   0%|          | 0/382 [00:00<?, ?it/s]"
      ]
     },
     "metadata": {},
     "output_type": "display_data"
    }
   ],
   "source": [
    "embeddings_mpnet = cp.asarray(model_mpnet.encode(tweets_with_sw, show_progress_bar=True))\n",
    "embeddings_minilm = cp.asarray(model_minilm.encode(tweets_with_sw, show_progress_bar=True))\n",
    "embeddings_distil = cp.asarray(model_distil.encode(tweets_with_sw, show_progress_bar = True))"
   ]
  },
  {
   "cell_type": "markdown",
   "metadata": {
    "id": "LD4QHyPrF_mj"
   },
   "source": [
    "### UMAP + HDBSCAN with different encoding techniques"
   ]
  },
  {
   "cell_type": "markdown",
   "metadata": {},
   "source": [
    "#### Bag of Words:"
   ]
  },
  {
   "cell_type": "code",
   "execution_count": null,
   "metadata": {},
   "outputs": [],
   "source": [
    "bow_clusters, score = clustering.generate_clusters(bow_vectorizer,\n",
    "                                                   n_neighbors=30,\n",
    "                                                    n_components=2,\n",
    "                                                    random_state=42,\n",
    "                                                     min_samples=50,\n",
    "                                                    min_cluster_size=120\n",
    "                                                    )"
   ]
  },
  {
   "cell_type": "code",
   "execution_count": null,
   "metadata": {
    "colab": {
     "base_uri": "https://localhost:8080/"
    },
    "executionInfo": {
     "elapsed": 46988,
     "status": "ok",
     "timestamp": 1635847308602,
     "user": {
      "displayName": "Adilbek Karmanov",
      "photoUrl": "https://lh3.googleusercontent.com/a/default-user=s64",
      "userId": "11887494137283416128"
     },
     "user_tz": -240
    },
    "id": "YQ6aJwuIF_Gx",
    "outputId": "60670131-0c40-41db-ca2d-d30ff0d3e407"
   },
   "outputs": [],
   "source": [
    "clusterable_embedding = umap.UMAP(\n",
    "    n_neighbors=30,\n",
    "    min_dist=0.0,\n",
    "    n_components=2,\n",
    "    random_state=42,\n",
    ").fit_transform(embeddings)"
   ]
  },
  {
   "cell_type": "code",
   "execution_count": null,
   "metadata": {
    "colab": {
     "base_uri": "https://localhost:8080/",
     "height": 265
    },
    "executionInfo": {
     "elapsed": 654,
     "status": "ok",
     "timestamp": 1635847319989,
     "user": {
      "displayName": "Adilbek Karmanov",
      "photoUrl": "https://lh3.googleusercontent.com/a/default-user=s64",
      "userId": "11887494137283416128"
     },
     "user_tz": -240
    },
    "id": "3BMkB7_4F_Ji",
    "outputId": "818f2aa2-f6fc-423c-b9f1-44d72b474ced"
   },
   "outputs": [],
   "source": [
    "plt.scatter(clusterable_embedding[:, 0], clusterable_embedding[:, 1], s=0.1, cmap='Spectral');"
   ]
  },
  {
   "cell_type": "code",
   "execution_count": null,
   "metadata": {
    "id": "161swVcVGH67"
   },
   "outputs": [],
   "source": [
    "labels = hdbscan.HDBSCAN(\n",
    "    min_samples=10,\n",
    "    min_cluster_size=500,\n",
    ").fit_predict(clusterable_embedding)"
   ]
  },
  {
   "cell_type": "code",
   "execution_count": null,
   "metadata": {
    "colab": {
     "base_uri": "https://localhost:8080/",
     "height": 265
    },
    "executionInfo": {
     "elapsed": 1564,
     "status": "ok",
     "timestamp": 1635847326221,
     "user": {
      "displayName": "Adilbek Karmanov",
      "photoUrl": "https://lh3.googleusercontent.com/a/default-user=s64",
      "userId": "11887494137283416128"
     },
     "user_tz": -240
    },
    "id": "ruN65EJSGJsN",
    "outputId": "5015195b-1a9d-4a17-e64c-2770969f1ccb"
   },
   "outputs": [],
   "source": [
    "clustered = (labels >= 0)\n",
    "plt.scatter(clusterable_embedding[~clustered, 0],\n",
    "            clusterable_embedding[~clustered, 1],\n",
    "            color=(0.5, 0.5, 0.5),\n",
    "            s=0.1,\n",
    "            alpha=0.5)\n",
    "plt.scatter(clusterable_embedding[clustered, 0],\n",
    "            clusterable_embedding[clustered, 1],\n",
    "            c=labels[clustered],\n",
    "            s=0.1,\n",
    "            cmap='Spectral');"
   ]
  },
  {
   "cell_type": "markdown",
   "metadata": {
    "id": "VzZXbFdwPL_4"
   },
   "source": [
    "Bag of Words + Clusterization"
   ]
  },
  {
   "cell_type": "code",
   "execution_count": null,
   "metadata": {
    "colab": {
     "base_uri": "https://localhost:8080/"
    },
    "executionInfo": {
     "elapsed": 105533,
     "status": "ok",
     "timestamp": 1635855837067,
     "user": {
      "displayName": "Adilbek Karmanov",
      "photoUrl": "https://lh3.googleusercontent.com/a/default-user=s64",
      "userId": "11887494137283416128"
     },
     "user_tz": -240
    },
    "id": "JvNU2ycPJqkB",
    "outputId": "0e235329-c30b-4615-ea71-f8740eb81d0d"
   },
   "outputs": [],
   "source": [
    "clusterable_embedding = umap.UMAP(\n",
    "    n_neighbors=30,\n",
    "    min_dist=0.0,\n",
    "    n_components=2,\n",
    "    random_state=42,\n",
    ").fit_transform(bow)"
   ]
  },
  {
   "cell_type": "code",
   "execution_count": null,
   "metadata": {
    "colab": {
     "base_uri": "https://localhost:8080/",
     "height": 265
    },
    "executionInfo": {
     "elapsed": 32,
     "status": "ok",
     "timestamp": 1635855837068,
     "user": {
      "displayName": "Adilbek Karmanov",
      "photoUrl": "https://lh3.googleusercontent.com/a/default-user=s64",
      "userId": "11887494137283416128"
     },
     "user_tz": -240
    },
    "id": "gLvFLgK5Kily",
    "outputId": "d1338c7e-5107-4604-e129-03aabacdb259"
   },
   "outputs": [],
   "source": [
    "plt.scatter(clusterable_embedding[:, 0], clusterable_embedding[:, 1], s=0.1, cmap='Spectral');"
   ]
  },
  {
   "cell_type": "code",
   "execution_count": null,
   "metadata": {
    "id": "k0r6ZkluKsa4"
   },
   "outputs": [],
   "source": [
    "labels = hdbscan.HDBSCAN(\n",
    "    min_samples=50,\n",
    "    min_cluster_size=120,\n",
    ").fit_predict(clusterable_embedding)"
   ]
  },
  {
   "cell_type": "code",
   "execution_count": null,
   "metadata": {
    "colab": {
     "base_uri": "https://localhost:8080/",
     "height": 265
    },
    "executionInfo": {
     "elapsed": 872,
     "status": "ok",
     "timestamp": 1635855933902,
     "user": {
      "displayName": "Adilbek Karmanov",
      "photoUrl": "https://lh3.googleusercontent.com/a/default-user=s64",
      "userId": "11887494137283416128"
     },
     "user_tz": -240
    },
    "id": "iDYbPXTcKurW",
    "outputId": "1cd0adee-407b-4750-88dd-796cabf0925e"
   },
   "outputs": [],
   "source": [
    "clustered = (labels >= 0)\n",
    "plt.scatter(clusterable_embedding[~clustered, 0],\n",
    "            clusterable_embedding[~clustered, 1],\n",
    "            color=(0.5, 0.5, 0.5),\n",
    "            s=0.1,\n",
    "            alpha=0.5)\n",
    "plt.scatter(clusterable_embedding[clustered, 0],\n",
    "            clusterable_embedding[clustered, 1],\n",
    "            c=labels[clustered],\n",
    "            s=0.1,\n",
    "            cmap='Spectral');"
   ]
  },
  {
   "cell_type": "code",
   "execution_count": null,
   "metadata": {
    "id": "1yBmM0ZETnNU"
   },
   "outputs": [],
   "source": [
    "df['Cluster_BoW'] = labels"
   ]
  },
  {
   "cell_type": "markdown",
   "metadata": {
    "id": "aW8C0eCXPXiL"
   },
   "source": [
    "TF-IDF + Clusterization"
   ]
  },
  {
   "cell_type": "code",
   "execution_count": null,
   "metadata": {
    "id": "PMy-13n1PaJw"
   },
   "outputs": [],
   "source": [
    "clusterable_embedding = umap.UMAP(\n",
    "    n_neighbors=30,\n",
    "    min_dist=0.0,\n",
    "    n_components=2,\n",
    "    random_state=42,\n",
    ").fit_transform(tfidf)"
   ]
  },
  {
   "cell_type": "code",
   "execution_count": null,
   "metadata": {
    "colab": {
     "base_uri": "https://localhost:8080/",
     "height": 265
    },
    "executionInfo": {
     "elapsed": 33,
     "status": "ok",
     "timestamp": 1635856028985,
     "user": {
      "displayName": "Adilbek Karmanov",
      "photoUrl": "https://lh3.googleusercontent.com/a/default-user=s64",
      "userId": "11887494137283416128"
     },
     "user_tz": -240
    },
    "id": "km_0Wi02PaHJ",
    "outputId": "b5d1f2cf-5b3a-42eb-9a1e-13ccecba7e2f"
   },
   "outputs": [],
   "source": [
    "plt.scatter(clusterable_embedding[:, 0], clusterable_embedding[:, 1], s=0.1, cmap='Spectral');"
   ]
  },
  {
   "cell_type": "code",
   "execution_count": null,
   "metadata": {
    "id": "HV08egJ1PaDT"
   },
   "outputs": [],
   "source": [
    "labels = hdbscan.HDBSCAN(\n",
    "    min_samples=50,\n",
    "    min_cluster_size=200,\n",
    ").fit_predict(clusterable_embedding)"
   ]
  },
  {
   "cell_type": "code",
   "execution_count": null,
   "metadata": {
    "colab": {
     "base_uri": "https://localhost:8080/",
     "height": 265
    },
    "executionInfo": {
     "elapsed": 438,
     "status": "ok",
     "timestamp": 1635856989486,
     "user": {
      "displayName": "Adilbek Karmanov",
      "photoUrl": "https://lh3.googleusercontent.com/a/default-user=s64",
      "userId": "11887494137283416128"
     },
     "user_tz": -240
    },
    "id": "5kRh3-QuPZ-X",
    "outputId": "9ff461a9-c1c9-471d-9d08-9acb79543116"
   },
   "outputs": [],
   "source": [
    "clustered = (labels >= 0)\n",
    "plt.scatter(clusterable_embedding[~clustered, 0],\n",
    "            clusterable_embedding[~clustered, 1],\n",
    "            color=(0.5, 0.5, 0.5),\n",
    "            s=0.1,\n",
    "            alpha=0.5)\n",
    "plt.scatter(clusterable_embedding[clustered, 0],\n",
    "            clusterable_embedding[clustered, 1],\n",
    "            c=labels[clustered],\n",
    "            s=0.1,\n",
    "            cmap='Spectral');"
   ]
  },
  {
   "cell_type": "markdown",
   "metadata": {
    "id": "DdAKNyCmWAvi"
   },
   "source": [
    "Word2vec + Clusterization"
   ]
  },
  {
   "cell_type": "code",
   "execution_count": null,
   "metadata": {
    "colab": {
     "base_uri": "https://localhost:8080/"
    },
    "executionInfo": {
     "elapsed": 25343,
     "status": "ok",
     "timestamp": 1635857031123,
     "user": {
      "displayName": "Adilbek Karmanov",
      "photoUrl": "https://lh3.googleusercontent.com/a/default-user=s64",
      "userId": "11887494137283416128"
     },
     "user_tz": -240
    },
    "id": "ED9Na2kKPjn_",
    "outputId": "d3911bc8-dc86-4f02-952d-8c80ee7f49e0"
   },
   "outputs": [],
   "source": [
    "clusterable_embedding = umap.UMAP(\n",
    "    n_neighbors=5,\n",
    "    min_dist=0.0,\n",
    "    n_components=2,\n",
    "    random_state=42,\n",
    ").fit_transform(wordvec)"
   ]
  },
  {
   "cell_type": "code",
   "execution_count": null,
   "metadata": {
    "colab": {
     "base_uri": "https://localhost:8080/",
     "height": 267
    },
    "executionInfo": {
     "elapsed": 31,
     "status": "ok",
     "timestamp": 1635857031124,
     "user": {
      "displayName": "Adilbek Karmanov",
      "photoUrl": "https://lh3.googleusercontent.com/a/default-user=s64",
      "userId": "11887494137283416128"
     },
     "user_tz": -240
    },
    "id": "vHj14M1mPjj4",
    "outputId": "8997dd23-b801-4173-e0d6-f42b8bc2047e"
   },
   "outputs": [],
   "source": [
    "plt.scatter(clusterable_embedding[:, 0], clusterable_embedding[:, 1], s=0.1, cmap='Spectral');"
   ]
  },
  {
   "cell_type": "code",
   "execution_count": null,
   "metadata": {
    "id": "la9D7Ay-Pjgx"
   },
   "outputs": [],
   "source": [
    "labels = hdbscan.HDBSCAN(\n",
    "    min_samples=70,\n",
    "    min_cluster_size=30,\n",
    ").fit_predict(clusterable_embedding)"
   ]
  },
  {
   "cell_type": "code",
   "execution_count": null,
   "metadata": {
    "colab": {
     "base_uri": "https://localhost:8080/",
     "height": 267
    },
    "executionInfo": {
     "elapsed": 580,
     "status": "ok",
     "timestamp": 1635857063137,
     "user": {
      "displayName": "Adilbek Karmanov",
      "photoUrl": "https://lh3.googleusercontent.com/a/default-user=s64",
      "userId": "11887494137283416128"
     },
     "user_tz": -240
    },
    "id": "lxAFZyzrZnUS",
    "outputId": "8a37aab4-91e6-4b6b-f04a-193debd54567"
   },
   "outputs": [],
   "source": [
    "clustered = (labels >= 0)\n",
    "plt.scatter(clusterable_embedding[~clustered, 0],\n",
    "            clusterable_embedding[~clustered, 1],\n",
    "            color=(0.5, 0.5, 0.5),\n",
    "            s=0.1,\n",
    "            alpha=0.5)\n",
    "plt.scatter(clusterable_embedding[clustered, 0],\n",
    "            clusterable_embedding[clustered, 1],\n",
    "            c=labels[clustered],\n",
    "            s=0.1,\n",
    "            cmap='Spectral');"
   ]
  },
  {
   "cell_type": "code",
   "execution_count": null,
   "metadata": {},
   "outputs": [],
   "source": [
    "clusterable_embedding = umap.UMAP(\n",
    "    n_neighbors=30,\n",
    "    min_dist=0.0,\n",
    "    n_components=2,\n",
    "    random_state=42,\n",
    ").fit_transform(embeddings)"
   ]
  },
  {
   "cell_type": "code",
   "execution_count": null,
   "metadata": {},
   "outputs": [],
   "source": []
  },
  {
   "cell_type": "code",
   "execution_count": null,
   "metadata": {},
   "outputs": [],
   "source": []
  },
  {
   "cell_type": "code",
   "execution_count": null,
   "metadata": {},
   "outputs": [],
   "source": []
  },
  {
   "cell_type": "code",
   "execution_count": null,
   "metadata": {
    "id": "jivqj2lbK5Tz"
   },
   "outputs": [],
   "source": [
    "df['Cluster_word2vec'] = labels"
   ]
  },
  {
   "cell_type": "code",
   "execution_count": null,
   "metadata": {
    "colab": {
     "base_uri": "https://localhost:8080/",
     "height": 462
    },
    "executionInfo": {
     "elapsed": 6,
     "status": "ok",
     "timestamp": 1634560739361,
     "user": {
      "displayName": "Adilbek Karmanov",
      "photoUrl": "https://lh3.googleusercontent.com/a/default-user=s64",
      "userId": "11887494137283416128"
     },
     "user_tz": -240
    },
    "id": "PZ21pvPDLHTT",
    "outputId": "894559bd-0b00-497b-b6c0-7795a94a117a"
   },
   "outputs": [],
   "source": [
    "df.head()"
   ]
  },
  {
   "cell_type": "code",
   "execution_count": null,
   "metadata": {
    "id": "VkbcW-4oLa3T"
   },
   "outputs": [],
   "source": [
    "def freq(tweets):\n",
    "    vocabulary = dict()\n",
    "    for tweet in tweets:\n",
    "        # break the string into list of words\n",
    "        str_list = tweet.split()\n",
    "        for s in str_list:\n",
    "            if s in vocabulary:\n",
    "                vocabulary[s] += 1\n",
    "            else:\n",
    "                vocabulary[s] = 1\n",
    "    return sorted(vocabulary.items(), key=lambda x: x[1], reverse=True)[:10]"
   ]
  },
  {
   "cell_type": "code",
   "execution_count": null,
   "metadata": {
    "colab": {
     "base_uri": "https://localhost:8080/"
    },
    "executionInfo": {
     "elapsed": 5,
     "status": "ok",
     "timestamp": 1634643299488,
     "user": {
      "displayName": "Adilbek Karmanov",
      "photoUrl": "https://lh3.googleusercontent.com/a/default-user=s64",
      "userId": "11887494137283416128"
     },
     "user_tz": -240
    },
    "id": "cLy-xtfONEDh",
    "outputId": "4847209c-ebe6-4219-f7d1-7f8fa948bbfe"
   },
   "outputs": [],
   "source": [
    "for cluster in list(np.unique(df['Cluster_BoW'])):\n",
    "  print('Cluster: ' + str(cluster))\n",
    "  cluster_text = df[df['Cluster_BoW'] == cluster]['tweet']\n",
    "  dic = freq(cluster_text)\n",
    "  print(dic)"
   ]
  },
  {
   "cell_type": "code",
   "execution_count": null,
   "metadata": {
    "colab": {
     "base_uri": "https://localhost:8080/"
    },
    "executionInfo": {
     "elapsed": 394,
     "status": "ok",
     "timestamp": 1634643373835,
     "user": {
      "displayName": "Adilbek Karmanov",
      "photoUrl": "https://lh3.googleusercontent.com/a/default-user=s64",
      "userId": "11887494137283416128"
     },
     "user_tz": -240
    },
    "id": "w4DwSfcuVhP-",
    "outputId": "23901ac2-1284-40a4-ea91-c88a7580fe30"
   },
   "outputs": [],
   "source": [
    "df['Cluster_BoW'].value_counts()"
   ]
  },
  {
   "cell_type": "code",
   "execution_count": null,
   "metadata": {
    "colab": {
     "base_uri": "https://localhost:8080/"
    },
    "executionInfo": {
     "elapsed": 397,
     "status": "ok",
     "timestamp": 1634561257165,
     "user": {
      "displayName": "Adilbek Karmanov",
      "photoUrl": "https://lh3.googleusercontent.com/a/default-user=s64",
      "userId": "11887494137283416128"
     },
     "user_tz": -240
    },
    "id": "e0vszZrfLqA2",
    "outputId": "d666b231-3db2-48a3-8ab6-904be08ea6cb"
   },
   "outputs": [],
   "source": [
    "for cluster in list(np.unique(df['Cluster_word2vec'])):\n",
    "  print('Cluster: ' + str(cluster))\n",
    "  cluster_text = df[df['Cluster_word2vec'] == cluster]['tweet']\n",
    "  dic = freq(cluster_text)\n",
    "  print(dic)"
   ]
  },
  {
   "cell_type": "code",
   "execution_count": null,
   "metadata": {
    "id": "sDdDTaZ3OsFA"
   },
   "outputs": [],
   "source": [
    "df.to_csv('/content/drive/MyDrive/ML701-Project/clusterized_ver_0.csv')"
   ]
  },
  {
   "cell_type": "code",
   "execution_count": null,
   "metadata": {
    "id": "Jyhjh7poO55r"
   },
   "outputs": [],
   "source": []
  }
 ],
 "metadata": {
  "accelerator": "GPU",
  "colab": {
   "authorship_tag": "ABX9TyN4au/dkAyTEDi7uhbcWp6k",
   "collapsed_sections": [],
   "name": "USE.ipynb",
   "provenance": []
  },
  "kernelspec": {
   "display_name": "Python 3 (ipykernel)",
   "language": "python",
   "name": "python3"
  },
  "language_info": {
   "codemirror_mode": {
    "name": "ipython",
    "version": 3
   },
   "file_extension": ".py",
   "mimetype": "text/x-python",
   "name": "python",
   "nbconvert_exporter": "python",
   "pygments_lexer": "ipython3",
   "version": "3.7.12"
  }
 },
 "nbformat": 4,
 "nbformat_minor": 1
}
